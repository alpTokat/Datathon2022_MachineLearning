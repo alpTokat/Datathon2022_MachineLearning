{
 "cells": [
  {
   "cell_type": "code",
   "execution_count": 1,
   "id": "c0889361",
   "metadata": {},
   "outputs": [],
   "source": [
    "import pandas as pd\n",
    "import numpy as np\n",
    "import matplotlib.pyplot as plt\n",
    "import seaborn as sns"
   ]
  },
  {
   "cell_type": "code",
   "execution_count": 2,
   "id": "219a98c6",
   "metadata": {},
   "outputs": [],
   "source": [
    "#verilerin okunması\n",
    "veriler = pd.read_csv(\"train.csv\")"
   ]
  },
  {
   "cell_type": "code",
   "execution_count": 3,
   "id": "44eb7793",
   "metadata": {},
   "outputs": [],
   "source": [
    "veriler[\"tarih\"] = pd.to_datetime(veriler[\"tarih\"])\n",
    "veriler[\"Yıl\"] = veriler[\"tarih\"].dt.year\n",
    "veriler[\"Ay\"] = veriler[\"tarih\"].dt.month\n",
    "veriler[\"Gün\"] = veriler[\"tarih\"].dt.day"
   ]
  },
  {
   "cell_type": "code",
   "execution_count": 4,
   "id": "880c317b",
   "metadata": {},
   "outputs": [
    {
     "name": "stdout",
     "output_type": "stream",
     "text": [
      "            tarih        ürün  ürün besin değeri    ürün kategorisi  \\\n",
      "0      2016-01-01       kıyma                120                 et   \n",
      "1      2016-01-01       tavuk                103                 et   \n",
      "2      2016-01-01       hindi                160                 et   \n",
      "3      2016-01-01  Bakla-kuru                354  sebze ve bakliyat   \n",
      "4      2016-01-01  Bakla-taze                 72  sebze ve bakliyat   \n",
      "...           ...         ...                ...                ...   \n",
      "227515 2020-12-01      fındık                110          kuruyemiş   \n",
      "227516 2020-12-01      fıstık                115          kuruyemiş   \n",
      "227517 2020-12-01        kaju                100          kuruyemiş   \n",
      "227518 2020-12-01       badem                110          kuruyemiş   \n",
      "227519 2020-12-01       ceviz                120          kuruyemiş   \n",
      "\n",
      "        ürün fiyatı ürün üretim yeri market şehir   Yıl  Ay  Gün  \n",
      "0             33.41         Yurt içi      M     A  2016   1    1  \n",
      "1             11.22         Yurt içi      M     A  2016   1    1  \n",
      "2             11.12         Yurt içi      M     A  2016   1    1  \n",
      "3              7.02         Yurt içi      M     A  2016   1    1  \n",
      "4             13.14         Yurt içi      M     A  2016   1    1  \n",
      "...             ...              ...    ...   ...   ...  ..  ...  \n",
      "227515        51.19        Yurt dışı      B     H  2020  12    1  \n",
      "227516        55.14        Yurt dışı      B     H  2020  12    1  \n",
      "227517        58.60        Yurt dışı      B     H  2020  12    1  \n",
      "227518        51.83        Yurt dışı      B     H  2020  12    1  \n",
      "227519        57.22        Yurt dışı      B     H  2020  12    1  \n",
      "\n",
      "[227520 rows x 11 columns]\n"
     ]
    }
   ],
   "source": [
    "print(veriler)"
   ]
  },
  {
   "cell_type": "code",
   "execution_count": 5,
   "id": "d33e2489",
   "metadata": {},
   "outputs": [
    {
     "name": "stdout",
     "output_type": "stream",
     "text": [
      "        tarih  ürün  ürün besin değeri  ürün kategorisi  ürün fiyatı  \\\n",
      "0           0    65                 35                0         3268   \n",
      "1           0    70                 32                0         1049   \n",
      "2           0    61                 38                0         1039   \n",
      "3           0     1                 49                3          629   \n",
      "4           0     2                 23                3         1241   \n",
      "...       ...   ...                ...              ...          ...   \n",
      "227515     59    59                 33                1         5045   \n",
      "227516     59    60                 34                1         5426   \n",
      "227517     59    62                 31                1         5726   \n",
      "227518     59    55                 33                1         5109   \n",
      "227519     59    58                 35                1         5611   \n",
      "\n",
      "        ürün üretim yeri  market  şehir  Yıl  Ay  Gün  \n",
      "0                      1       2      0    0   0    0  \n",
      "1                      1       2      0    0   0    0  \n",
      "2                      1       2      0    0   0    0  \n",
      "3                      1       2      0    0   0    0  \n",
      "4                      1       2      0    0   0    0  \n",
      "...                  ...     ...    ...  ...  ..  ...  \n",
      "227515                 0       0      7    4  11    0  \n",
      "227516                 0       0      7    4  11    0  \n",
      "227517                 0       0      7    4  11    0  \n",
      "227518                 0       0      7    4  11    0  \n",
      "227519                 0       0      7    4  11    0  \n",
      "\n",
      "[227520 rows x 11 columns]\n",
      "[[2]\n",
      " [2]\n",
      " [2]\n",
      " ...\n",
      " [0]\n",
      " [0]\n",
      " [0]]\n",
      "[[0]\n",
      " [0]\n",
      " [0]\n",
      " ...\n",
      " [7]\n",
      " [7]\n",
      " [7]]\n",
      "[[0]\n",
      " [0]\n",
      " [0]\n",
      " ...\n",
      " [1]\n",
      " [1]\n",
      " [1]]\n",
      "        Ay\n",
      "0        0\n",
      "1        0\n",
      "2        0\n",
      "3        0\n",
      "4        0\n",
      "...     ..\n",
      "227515  11\n",
      "227516  11\n",
      "227517  11\n",
      "227518  11\n",
      "227519  11\n",
      "\n",
      "[227520 rows x 1 columns]\n",
      "[[0. 0. 1.]\n",
      " [0. 0. 1.]\n",
      " [0. 0. 1.]\n",
      " ...\n",
      " [1. 0. 0.]\n",
      " [1. 0. 0.]\n",
      " [1. 0. 0.]]\n",
      "[[1. 0. 0. ... 0. 0. 0.]\n",
      " [1. 0. 0. ... 0. 0. 0.]\n",
      " [1. 0. 0. ... 0. 0. 0.]\n",
      " ...\n",
      " [0. 0. 0. ... 0. 0. 1.]\n",
      " [0. 0. 0. ... 0. 0. 1.]\n",
      " [0. 0. 0. ... 0. 0. 1.]]\n",
      "[[1. 0. 0. 0. 0. 0.]\n",
      " [1. 0. 0. 0. 0. 0.]\n",
      " [1. 0. 0. 0. 0. 0.]\n",
      " ...\n",
      " [0. 1. 0. 0. 0. 0.]\n",
      " [0. 1. 0. 0. 0. 0.]\n",
      " [0. 1. 0. 0. 0. 0.]]\n"
     ]
    }
   ],
   "source": [
    "# Encoding : Kategorik -> Nümeric\n",
    "from sklearn import preprocessing \n",
    "\n",
    "encode_veriler = veriler.apply(preprocessing.LabelEncoder().fit_transform)\n",
    "print(encode_veriler)\n",
    "\n",
    "\n",
    "#veriler onehot için çekilmesi\n",
    "market = encode_veriler.iloc[:,6:7].values\n",
    "print(market)\n",
    "\n",
    "sehir = encode_veriler.iloc[:,-4:-3].values\n",
    "print(sehir)\n",
    "\n",
    "kategori = encode_veriler.iloc[:,3:4].values\n",
    "print(kategori)\n",
    "\n",
    "tarih = encode_veriler.iloc[:,-2:-1]\n",
    "print(tarih)\n",
    "\n",
    "#OneHotEncoding işlemi\n",
    "from sklearn.preprocessing import OneHotEncoder\n",
    "\n",
    "ohe = OneHotEncoder()\n",
    "market = ohe.fit_transform(market).toarray()\n",
    "print(market)\n",
    "\n",
    "\n",
    "sehir = ohe.fit_transform(sehir).toarray()\n",
    "print(sehir)\n",
    "\n",
    "kategori = ohe.fit_transform(kategori).toarray()\n",
    "print(kategori)\n",
    "\n",
    "tarih = ohe.fit_transform(tarih).toarray()"
   ]
  },
  {
   "cell_type": "code",
   "execution_count": 6,
   "id": "58076fcc",
   "metadata": {},
   "outputs": [
    {
     "name": "stdout",
     "output_type": "stream",
     "text": [
      "        ürün besin değeri   et  sebze ve bakliyat  tahıl ve ürünleri  \\\n",
      "0                     120  1.0                0.0                0.0   \n",
      "1                     103  1.0                0.0                0.0   \n",
      "2                     160  1.0                0.0                0.0   \n",
      "3                     354  0.0                0.0                0.0   \n",
      "4                      72  0.0                0.0                0.0   \n",
      "...                   ...  ...                ...                ...   \n",
      "227515                110  0.0                1.0                0.0   \n",
      "227516                115  0.0                1.0                0.0   \n",
      "227517                100  0.0                1.0                0.0   \n",
      "227518                110  0.0                1.0                0.0   \n",
      "227519                120  0.0                1.0                0.0   \n",
      "\n",
      "        süt ürünleri ve kahvaltılık  meyve  kuruyemiş  \n",
      "0                               0.0    0.0        0.0  \n",
      "1                               0.0    0.0        0.0  \n",
      "2                               0.0    0.0        0.0  \n",
      "3                               1.0    0.0        0.0  \n",
      "4                               1.0    0.0        0.0  \n",
      "...                             ...    ...        ...  \n",
      "227515                          0.0    0.0        0.0  \n",
      "227516                          0.0    0.0        0.0  \n",
      "227517                          0.0    0.0        0.0  \n",
      "227518                          0.0    0.0        0.0  \n",
      "227519                          0.0    0.0        0.0  \n",
      "\n",
      "[227520 rows x 7 columns]\n",
      "        ürün besin değeri   et  sebze ve bakliyat  tahıl ve ürünleri  \\\n",
      "0                     120  1.0                0.0                0.0   \n",
      "1                     103  1.0                0.0                0.0   \n",
      "2                     160  1.0                0.0                0.0   \n",
      "3                     354  0.0                0.0                0.0   \n",
      "4                      72  0.0                0.0                0.0   \n",
      "...                   ...  ...                ...                ...   \n",
      "227515                110  0.0                1.0                0.0   \n",
      "227516                115  0.0                1.0                0.0   \n",
      "227517                100  0.0                1.0                0.0   \n",
      "227518                110  0.0                1.0                0.0   \n",
      "227519                120  0.0                1.0                0.0   \n",
      "\n",
      "        süt ürünleri ve kahvaltılık  meyve  kuruyemiş  ürün üretim yeri  \n",
      "0                               0.0    0.0        0.0                 1  \n",
      "1                               0.0    0.0        0.0                 1  \n",
      "2                               0.0    0.0        0.0                 1  \n",
      "3                               1.0    0.0        0.0                 1  \n",
      "4                               1.0    0.0        0.0                 1  \n",
      "...                             ...    ...        ...               ...  \n",
      "227515                          0.0    0.0        0.0                 0  \n",
      "227516                          0.0    0.0        0.0                 0  \n",
      "227517                          0.0    0.0        0.0                 0  \n",
      "227518                          0.0    0.0        0.0                 0  \n",
      "227519                          0.0    0.0        0.0                 0  \n",
      "\n",
      "[227520 rows x 8 columns]\n",
      "        ürün besin değeri   et  sebze ve bakliyat  tahıl ve ürünleri  \\\n",
      "0                     120  1.0                0.0                0.0   \n",
      "1                     103  1.0                0.0                0.0   \n",
      "2                     160  1.0                0.0                0.0   \n",
      "3                     354  0.0                0.0                0.0   \n",
      "4                      72  0.0                0.0                0.0   \n",
      "...                   ...  ...                ...                ...   \n",
      "227515                110  0.0                1.0                0.0   \n",
      "227516                115  0.0                1.0                0.0   \n",
      "227517                100  0.0                1.0                0.0   \n",
      "227518                110  0.0                1.0                0.0   \n",
      "227519                120  0.0                1.0                0.0   \n",
      "\n",
      "        süt ürünleri ve kahvaltılık  meyve  kuruyemiş  ürün üretim yeri  \\\n",
      "0                               0.0    0.0        0.0                 1   \n",
      "1                               0.0    0.0        0.0                 1   \n",
      "2                               0.0    0.0        0.0                 1   \n",
      "3                               1.0    0.0        0.0                 1   \n",
      "4                               1.0    0.0        0.0                 1   \n",
      "...                             ...    ...        ...               ...   \n",
      "227515                          0.0    0.0        0.0                 0   \n",
      "227516                          0.0    0.0        0.0                 0   \n",
      "227517                          0.0    0.0        0.0                 0   \n",
      "227518                          0.0    0.0        0.0                 0   \n",
      "227519                          0.0    0.0        0.0                 0   \n",
      "\n",
      "        B_market  C_market  A_market    A    B    C    D    E    F    G    H  \\\n",
      "0            0.0       0.0       1.0  1.0  0.0  0.0  0.0  0.0  0.0  0.0  0.0   \n",
      "1            0.0       0.0       1.0  1.0  0.0  0.0  0.0  0.0  0.0  0.0  0.0   \n",
      "2            0.0       0.0       1.0  1.0  0.0  0.0  0.0  0.0  0.0  0.0  0.0   \n",
      "3            0.0       0.0       1.0  1.0  0.0  0.0  0.0  0.0  0.0  0.0  0.0   \n",
      "4            0.0       0.0       1.0  1.0  0.0  0.0  0.0  0.0  0.0  0.0  0.0   \n",
      "...          ...       ...       ...  ...  ...  ...  ...  ...  ...  ...  ...   \n",
      "227515       1.0       0.0       0.0  0.0  0.0  0.0  0.0  0.0  0.0  0.0  1.0   \n",
      "227516       1.0       0.0       0.0  0.0  0.0  0.0  0.0  0.0  0.0  0.0  1.0   \n",
      "227517       1.0       0.0       0.0  0.0  0.0  0.0  0.0  0.0  0.0  0.0  1.0   \n",
      "227518       1.0       0.0       0.0  0.0  0.0  0.0  0.0  0.0  0.0  0.0  1.0   \n",
      "227519       1.0       0.0       0.0  0.0  0.0  0.0  0.0  0.0  0.0  0.0  1.0   \n",
      "\n",
      "         Yıl  \n",
      "0       2016  \n",
      "1       2016  \n",
      "2       2016  \n",
      "3       2016  \n",
      "4       2016  \n",
      "...      ...  \n",
      "227515  2020  \n",
      "227516  2020  \n",
      "227517  2020  \n",
      "227518  2020  \n",
      "227519  2020  \n",
      "\n",
      "[227520 rows x 20 columns]\n",
      "        ürün besin değeri   et  sebze ve bakliyat  tahıl ve ürünleri  \\\n",
      "0                     120  1.0                0.0                0.0   \n",
      "1                     103  1.0                0.0                0.0   \n",
      "2                     160  1.0                0.0                0.0   \n",
      "3                     354  0.0                0.0                0.0   \n",
      "4                      72  0.0                0.0                0.0   \n",
      "...                   ...  ...                ...                ...   \n",
      "227515                110  0.0                1.0                0.0   \n",
      "227516                115  0.0                1.0                0.0   \n",
      "227517                100  0.0                1.0                0.0   \n",
      "227518                110  0.0                1.0                0.0   \n",
      "227519                120  0.0                1.0                0.0   \n",
      "\n",
      "        süt ürünleri ve kahvaltılık  meyve  kuruyemiş  ürün üretim yeri  \\\n",
      "0                               0.0    0.0        0.0                 1   \n",
      "1                               0.0    0.0        0.0                 1   \n",
      "2                               0.0    0.0        0.0                 1   \n",
      "3                               1.0    0.0        0.0                 1   \n",
      "4                               1.0    0.0        0.0                 1   \n",
      "...                             ...    ...        ...               ...   \n",
      "227515                          0.0    0.0        0.0                 0   \n",
      "227516                          0.0    0.0        0.0                 0   \n",
      "227517                          0.0    0.0        0.0                 0   \n",
      "227518                          0.0    0.0        0.0                 0   \n",
      "227519                          0.0    0.0        0.0                 0   \n",
      "\n",
      "        B_market  C_market  ...  Ay_5  Ay_6  Ay_7  Ay_8  Ay_9  Ay_10  Ay_11  \\\n",
      "0            0.0       0.0  ...   0.0   0.0   0.0   0.0   0.0    0.0    0.0   \n",
      "1            0.0       0.0  ...   0.0   0.0   0.0   0.0   0.0    0.0    0.0   \n",
      "2            0.0       0.0  ...   0.0   0.0   0.0   0.0   0.0    0.0    0.0   \n",
      "3            0.0       0.0  ...   0.0   0.0   0.0   0.0   0.0    0.0    0.0   \n",
      "4            0.0       0.0  ...   0.0   0.0   0.0   0.0   0.0    0.0    0.0   \n",
      "...          ...       ...  ...   ...   ...   ...   ...   ...    ...    ...   \n",
      "227515       1.0       0.0  ...   0.0   0.0   0.0   0.0   0.0    0.0    0.0   \n",
      "227516       1.0       0.0  ...   0.0   0.0   0.0   0.0   0.0    0.0    0.0   \n",
      "227517       1.0       0.0  ...   0.0   0.0   0.0   0.0   0.0    0.0    0.0   \n",
      "227518       1.0       0.0  ...   0.0   0.0   0.0   0.0   0.0    0.0    0.0   \n",
      "227519       1.0       0.0  ...   0.0   0.0   0.0   0.0   0.0    0.0    0.0   \n",
      "\n",
      "        Ay_12  Gün  ürün fiyatı  \n",
      "0         0.0    1        33.41  \n",
      "1         0.0    1        11.22  \n",
      "2         0.0    1        11.12  \n",
      "3         0.0    1         7.02  \n",
      "4         0.0    1        13.14  \n",
      "...       ...  ...          ...  \n",
      "227515    1.0    1        51.19  \n",
      "227516    1.0    1        55.14  \n",
      "227517    1.0    1        58.60  \n",
      "227518    1.0    1        51.83  \n",
      "227519    1.0    1        57.22  \n",
      "\n",
      "[227520 rows x 34 columns]\n"
     ]
    }
   ],
   "source": [
    "#DataFrame'e çevirme işlemi\n",
    "\n",
    "sonuc = pd.DataFrame(data=market,index=range(227520),columns=['B_market','C_market','A_market'])\n",
    "\n",
    "\n",
    "sonuc2 = pd.DataFrame(data=sehir,index=range(227520),columns=['A','B','C','D','E','F','G','H'])\n",
    "\n",
    "\n",
    "sonuc3 = pd.DataFrame(data=kategori,index=range(227520),columns=['et','sebze ve bakliyat','tahıl ve ürünleri','süt ürünleri ve kahvaltılık','meyve','kuruyemiş'])\n",
    "\n",
    "sonuc4 = pd.DataFrame(data=tarih,index=range(227520),columns=['Ay_1','Ay_2','Ay_3','Ay_4','Ay_5','Ay_6','Ay_7','Ay_8','Ay_9','Ay_10','Ay_11','Ay_12'])\n",
    "\n",
    "\n",
    "s = pd.concat([veriler.iloc[:,2:3],sonuc3],axis=1)\n",
    "print(s)\n",
    "\n",
    "s2 = pd.concat([s,encode_veriler.iloc[:,5:6]],axis=1)\n",
    "print(s2)\n",
    "\n",
    "s3 = pd.concat([s2,sonuc],axis=1)\n",
    "\n",
    "\n",
    "s4 = pd.concat([s3,sonuc2],axis=1)\n",
    "\n",
    "s5 = pd.concat([s4,veriler.iloc[:,-3:-2]],axis=1)\n",
    "print(s5)\n",
    "\n",
    "s6 = pd.concat([s5,sonuc4],axis=1)\n",
    "\n",
    "s7 = pd.concat([s6,veriler.iloc[:,[-1,4]]],axis=1)\n",
    "print(s7)\n"
   ]
  },
  {
   "cell_type": "code",
   "execution_count": 7,
   "id": "9393248f",
   "metadata": {},
   "outputs": [],
   "source": [
    "ürünFiyat = s7.iloc[:,-1:]\n",
    "s7 = s7.drop([\"ürün fiyatı\"],axis=1)"
   ]
  },
  {
   "cell_type": "code",
   "execution_count": 8,
   "id": "4d2ce9a5",
   "metadata": {},
   "outputs": [],
   "source": [
    "from sklearn.model_selection import train_test_split"
   ]
  },
  {
   "cell_type": "code",
   "execution_count": 9,
   "id": "815f15c8",
   "metadata": {},
   "outputs": [],
   "source": [
    "# train/test split \n",
    "x_train, x_test, y_train, y_test = train_test_split(s7,ürünFiyat,test_size = 0.33,random_state = 0)"
   ]
  },
  {
   "cell_type": "code",
   "execution_count": 10,
   "id": "ffb6c0b1",
   "metadata": {},
   "outputs": [
    {
     "data": {
      "text/html": [
       "<div>\n",
       "<style scoped>\n",
       "    .dataframe tbody tr th:only-of-type {\n",
       "        vertical-align: middle;\n",
       "    }\n",
       "\n",
       "    .dataframe tbody tr th {\n",
       "        vertical-align: top;\n",
       "    }\n",
       "\n",
       "    .dataframe thead th {\n",
       "        text-align: right;\n",
       "    }\n",
       "</style>\n",
       "<table border=\"1\" class=\"dataframe\">\n",
       "  <thead>\n",
       "    <tr style=\"text-align: right;\">\n",
       "      <th></th>\n",
       "      <th>ürün besin değeri</th>\n",
       "      <th>et</th>\n",
       "      <th>sebze ve bakliyat</th>\n",
       "      <th>tahıl ve ürünleri</th>\n",
       "      <th>süt ürünleri ve kahvaltılık</th>\n",
       "      <th>meyve</th>\n",
       "      <th>kuruyemiş</th>\n",
       "      <th>ürün üretim yeri</th>\n",
       "      <th>B_market</th>\n",
       "      <th>C_market</th>\n",
       "      <th>...</th>\n",
       "      <th>Ay_4</th>\n",
       "      <th>Ay_5</th>\n",
       "      <th>Ay_6</th>\n",
       "      <th>Ay_7</th>\n",
       "      <th>Ay_8</th>\n",
       "      <th>Ay_9</th>\n",
       "      <th>Ay_10</th>\n",
       "      <th>Ay_11</th>\n",
       "      <th>Ay_12</th>\n",
       "      <th>Gün</th>\n",
       "    </tr>\n",
       "  </thead>\n",
       "  <tbody>\n",
       "    <tr>\n",
       "      <th>134272</th>\n",
       "      <td>120</td>\n",
       "      <td>0.0</td>\n",
       "      <td>0.0</td>\n",
       "      <td>0.0</td>\n",
       "      <td>0.0</td>\n",
       "      <td>1.0</td>\n",
       "      <td>0.0</td>\n",
       "      <td>0</td>\n",
       "      <td>0.0</td>\n",
       "      <td>0.0</td>\n",
       "      <td>...</td>\n",
       "      <td>0.0</td>\n",
       "      <td>0.0</td>\n",
       "      <td>0.0</td>\n",
       "      <td>0.0</td>\n",
       "      <td>0.0</td>\n",
       "      <td>0.0</td>\n",
       "      <td>0.0</td>\n",
       "      <td>0.0</td>\n",
       "      <td>1.0</td>\n",
       "      <td>1</td>\n",
       "    </tr>\n",
       "    <tr>\n",
       "      <th>158666</th>\n",
       "      <td>390</td>\n",
       "      <td>0.0</td>\n",
       "      <td>0.0</td>\n",
       "      <td>0.0</td>\n",
       "      <td>0.0</td>\n",
       "      <td>0.0</td>\n",
       "      <td>1.0</td>\n",
       "      <td>1</td>\n",
       "      <td>1.0</td>\n",
       "      <td>0.0</td>\n",
       "      <td>...</td>\n",
       "      <td>0.0</td>\n",
       "      <td>0.0</td>\n",
       "      <td>1.0</td>\n",
       "      <td>0.0</td>\n",
       "      <td>0.0</td>\n",
       "      <td>0.0</td>\n",
       "      <td>0.0</td>\n",
       "      <td>0.0</td>\n",
       "      <td>0.0</td>\n",
       "      <td>1</td>\n",
       "    </tr>\n",
       "    <tr>\n",
       "      <th>137403</th>\n",
       "      <td>16</td>\n",
       "      <td>0.0</td>\n",
       "      <td>0.0</td>\n",
       "      <td>0.0</td>\n",
       "      <td>1.0</td>\n",
       "      <td>0.0</td>\n",
       "      <td>0.0</td>\n",
       "      <td>0</td>\n",
       "      <td>1.0</td>\n",
       "      <td>0.0</td>\n",
       "      <td>...</td>\n",
       "      <td>0.0</td>\n",
       "      <td>0.0</td>\n",
       "      <td>0.0</td>\n",
       "      <td>0.0</td>\n",
       "      <td>0.0</td>\n",
       "      <td>0.0</td>\n",
       "      <td>0.0</td>\n",
       "      <td>0.0</td>\n",
       "      <td>0.0</td>\n",
       "      <td>1</td>\n",
       "    </tr>\n",
       "    <tr>\n",
       "      <th>174286</th>\n",
       "      <td>333</td>\n",
       "      <td>0.0</td>\n",
       "      <td>0.0</td>\n",
       "      <td>0.0</td>\n",
       "      <td>1.0</td>\n",
       "      <td>0.0</td>\n",
       "      <td>0.0</td>\n",
       "      <td>1</td>\n",
       "      <td>1.0</td>\n",
       "      <td>0.0</td>\n",
       "      <td>...</td>\n",
       "      <td>0.0</td>\n",
       "      <td>0.0</td>\n",
       "      <td>0.0</td>\n",
       "      <td>0.0</td>\n",
       "      <td>0.0</td>\n",
       "      <td>0.0</td>\n",
       "      <td>1.0</td>\n",
       "      <td>0.0</td>\n",
       "      <td>0.0</td>\n",
       "      <td>1</td>\n",
       "    </tr>\n",
       "    <tr>\n",
       "      <th>154367</th>\n",
       "      <td>103</td>\n",
       "      <td>1.0</td>\n",
       "      <td>0.0</td>\n",
       "      <td>0.0</td>\n",
       "      <td>0.0</td>\n",
       "      <td>0.0</td>\n",
       "      <td>0.0</td>\n",
       "      <td>1</td>\n",
       "      <td>1.0</td>\n",
       "      <td>0.0</td>\n",
       "      <td>...</td>\n",
       "      <td>0.0</td>\n",
       "      <td>1.0</td>\n",
       "      <td>0.0</td>\n",
       "      <td>0.0</td>\n",
       "      <td>0.0</td>\n",
       "      <td>0.0</td>\n",
       "      <td>0.0</td>\n",
       "      <td>0.0</td>\n",
       "      <td>0.0</td>\n",
       "      <td>1</td>\n",
       "    </tr>\n",
       "    <tr>\n",
       "      <th>...</th>\n",
       "      <td>...</td>\n",
       "      <td>...</td>\n",
       "      <td>...</td>\n",
       "      <td>...</td>\n",
       "      <td>...</td>\n",
       "      <td>...</td>\n",
       "      <td>...</td>\n",
       "      <td>...</td>\n",
       "      <td>...</td>\n",
       "      <td>...</td>\n",
       "      <td>...</td>\n",
       "      <td>...</td>\n",
       "      <td>...</td>\n",
       "      <td>...</td>\n",
       "      <td>...</td>\n",
       "      <td>...</td>\n",
       "      <td>...</td>\n",
       "      <td>...</td>\n",
       "      <td>...</td>\n",
       "      <td>...</td>\n",
       "      <td>...</td>\n",
       "    </tr>\n",
       "    <tr>\n",
       "      <th>176963</th>\n",
       "      <td>354</td>\n",
       "      <td>0.0</td>\n",
       "      <td>0.0</td>\n",
       "      <td>0.0</td>\n",
       "      <td>1.0</td>\n",
       "      <td>0.0</td>\n",
       "      <td>0.0</td>\n",
       "      <td>1</td>\n",
       "      <td>0.0</td>\n",
       "      <td>1.0</td>\n",
       "      <td>...</td>\n",
       "      <td>0.0</td>\n",
       "      <td>0.0</td>\n",
       "      <td>0.0</td>\n",
       "      <td>0.0</td>\n",
       "      <td>0.0</td>\n",
       "      <td>0.0</td>\n",
       "      <td>0.0</td>\n",
       "      <td>1.0</td>\n",
       "      <td>0.0</td>\n",
       "      <td>1</td>\n",
       "    </tr>\n",
       "    <tr>\n",
       "      <th>117952</th>\n",
       "      <td>42</td>\n",
       "      <td>0.0</td>\n",
       "      <td>0.0</td>\n",
       "      <td>0.0</td>\n",
       "      <td>1.0</td>\n",
       "      <td>0.0</td>\n",
       "      <td>0.0</td>\n",
       "      <td>0</td>\n",
       "      <td>1.0</td>\n",
       "      <td>0.0</td>\n",
       "      <td>...</td>\n",
       "      <td>0.0</td>\n",
       "      <td>0.0</td>\n",
       "      <td>0.0</td>\n",
       "      <td>0.0</td>\n",
       "      <td>1.0</td>\n",
       "      <td>0.0</td>\n",
       "      <td>0.0</td>\n",
       "      <td>0.0</td>\n",
       "      <td>0.0</td>\n",
       "      <td>1</td>\n",
       "    </tr>\n",
       "    <tr>\n",
       "      <th>173685</th>\n",
       "      <td>402</td>\n",
       "      <td>0.0</td>\n",
       "      <td>0.0</td>\n",
       "      <td>0.0</td>\n",
       "      <td>0.0</td>\n",
       "      <td>0.0</td>\n",
       "      <td>1.0</td>\n",
       "      <td>1</td>\n",
       "      <td>0.0</td>\n",
       "      <td>1.0</td>\n",
       "      <td>...</td>\n",
       "      <td>0.0</td>\n",
       "      <td>0.0</td>\n",
       "      <td>0.0</td>\n",
       "      <td>0.0</td>\n",
       "      <td>0.0</td>\n",
       "      <td>0.0</td>\n",
       "      <td>1.0</td>\n",
       "      <td>0.0</td>\n",
       "      <td>0.0</td>\n",
       "      <td>1</td>\n",
       "    </tr>\n",
       "    <tr>\n",
       "      <th>43567</th>\n",
       "      <td>353</td>\n",
       "      <td>0.0</td>\n",
       "      <td>0.0</td>\n",
       "      <td>0.0</td>\n",
       "      <td>0.0</td>\n",
       "      <td>0.0</td>\n",
       "      <td>1.0</td>\n",
       "      <td>0</td>\n",
       "      <td>1.0</td>\n",
       "      <td>0.0</td>\n",
       "      <td>...</td>\n",
       "      <td>0.0</td>\n",
       "      <td>0.0</td>\n",
       "      <td>0.0</td>\n",
       "      <td>0.0</td>\n",
       "      <td>0.0</td>\n",
       "      <td>0.0</td>\n",
       "      <td>0.0</td>\n",
       "      <td>0.0</td>\n",
       "      <td>1.0</td>\n",
       "      <td>1</td>\n",
       "    </tr>\n",
       "    <tr>\n",
       "      <th>199340</th>\n",
       "      <td>15</td>\n",
       "      <td>0.0</td>\n",
       "      <td>0.0</td>\n",
       "      <td>0.0</td>\n",
       "      <td>1.0</td>\n",
       "      <td>0.0</td>\n",
       "      <td>0.0</td>\n",
       "      <td>0</td>\n",
       "      <td>0.0</td>\n",
       "      <td>1.0</td>\n",
       "      <td>...</td>\n",
       "      <td>0.0</td>\n",
       "      <td>1.0</td>\n",
       "      <td>0.0</td>\n",
       "      <td>0.0</td>\n",
       "      <td>0.0</td>\n",
       "      <td>0.0</td>\n",
       "      <td>0.0</td>\n",
       "      <td>0.0</td>\n",
       "      <td>0.0</td>\n",
       "      <td>1</td>\n",
       "    </tr>\n",
       "  </tbody>\n",
       "</table>\n",
       "<p>152438 rows × 33 columns</p>\n",
       "</div>"
      ],
      "text/plain": [
       "        ürün besin değeri   et  sebze ve bakliyat  tahıl ve ürünleri  \\\n",
       "134272                120  0.0                0.0                0.0   \n",
       "158666                390  0.0                0.0                0.0   \n",
       "137403                 16  0.0                0.0                0.0   \n",
       "174286                333  0.0                0.0                0.0   \n",
       "154367                103  1.0                0.0                0.0   \n",
       "...                   ...  ...                ...                ...   \n",
       "176963                354  0.0                0.0                0.0   \n",
       "117952                 42  0.0                0.0                0.0   \n",
       "173685                402  0.0                0.0                0.0   \n",
       "43567                 353  0.0                0.0                0.0   \n",
       "199340                 15  0.0                0.0                0.0   \n",
       "\n",
       "        süt ürünleri ve kahvaltılık  meyve  kuruyemiş  ürün üretim yeri  \\\n",
       "134272                          0.0    1.0        0.0                 0   \n",
       "158666                          0.0    0.0        1.0                 1   \n",
       "137403                          1.0    0.0        0.0                 0   \n",
       "174286                          1.0    0.0        0.0                 1   \n",
       "154367                          0.0    0.0        0.0                 1   \n",
       "...                             ...    ...        ...               ...   \n",
       "176963                          1.0    0.0        0.0                 1   \n",
       "117952                          1.0    0.0        0.0                 0   \n",
       "173685                          0.0    0.0        1.0                 1   \n",
       "43567                           0.0    0.0        1.0                 0   \n",
       "199340                          1.0    0.0        0.0                 0   \n",
       "\n",
       "        B_market  C_market  ...  Ay_4  Ay_5  Ay_6  Ay_7  Ay_8  Ay_9  Ay_10  \\\n",
       "134272       0.0       0.0  ...   0.0   0.0   0.0   0.0   0.0   0.0    0.0   \n",
       "158666       1.0       0.0  ...   0.0   0.0   1.0   0.0   0.0   0.0    0.0   \n",
       "137403       1.0       0.0  ...   0.0   0.0   0.0   0.0   0.0   0.0    0.0   \n",
       "174286       1.0       0.0  ...   0.0   0.0   0.0   0.0   0.0   0.0    1.0   \n",
       "154367       1.0       0.0  ...   0.0   1.0   0.0   0.0   0.0   0.0    0.0   \n",
       "...          ...       ...  ...   ...   ...   ...   ...   ...   ...    ...   \n",
       "176963       0.0       1.0  ...   0.0   0.0   0.0   0.0   0.0   0.0    0.0   \n",
       "117952       1.0       0.0  ...   0.0   0.0   0.0   0.0   1.0   0.0    0.0   \n",
       "173685       0.0       1.0  ...   0.0   0.0   0.0   0.0   0.0   0.0    1.0   \n",
       "43567        1.0       0.0  ...   0.0   0.0   0.0   0.0   0.0   0.0    0.0   \n",
       "199340       0.0       1.0  ...   0.0   1.0   0.0   0.0   0.0   0.0    0.0   \n",
       "\n",
       "        Ay_11  Ay_12  Gün  \n",
       "134272    0.0    1.0    1  \n",
       "158666    0.0    0.0    1  \n",
       "137403    0.0    0.0    1  \n",
       "174286    0.0    0.0    1  \n",
       "154367    0.0    0.0    1  \n",
       "...       ...    ...  ...  \n",
       "176963    1.0    0.0    1  \n",
       "117952    0.0    0.0    1  \n",
       "173685    0.0    0.0    1  \n",
       "43567     0.0    1.0    1  \n",
       "199340    0.0    0.0    1  \n",
       "\n",
       "[152438 rows x 33 columns]"
      ]
     },
     "execution_count": 10,
     "metadata": {},
     "output_type": "execute_result"
    }
   ],
   "source": [
    "x_train"
   ]
  },
  {
   "cell_type": "code",
   "execution_count": 11,
   "id": "c6f76aab",
   "metadata": {},
   "outputs": [
    {
     "data": {
      "text/plain": [
       "(152438, 33)"
      ]
     },
     "execution_count": 11,
     "metadata": {},
     "output_type": "execute_result"
    }
   ],
   "source": [
    "x_train.shape"
   ]
  },
  {
   "cell_type": "code",
   "execution_count": 12,
   "id": "d4daa81e",
   "metadata": {},
   "outputs": [
    {
     "data": {
      "text/plain": [
       "(75082, 33)"
      ]
     },
     "execution_count": 12,
     "metadata": {},
     "output_type": "execute_result"
    }
   ],
   "source": [
    "x_test.shape"
   ]
  },
  {
   "cell_type": "code",
   "execution_count": 13,
   "id": "56269b1f",
   "metadata": {},
   "outputs": [
    {
     "data": {
      "text/plain": [
       "(152438, 1)"
      ]
     },
     "execution_count": 13,
     "metadata": {},
     "output_type": "execute_result"
    }
   ],
   "source": [
    "y_train.shape"
   ]
  },
  {
   "cell_type": "code",
   "execution_count": 14,
   "id": "eb39fdd7",
   "metadata": {},
   "outputs": [
    {
     "data": {
      "text/plain": [
       "(75082, 1)"
      ]
     },
     "execution_count": 14,
     "metadata": {},
     "output_type": "execute_result"
    }
   ],
   "source": [
    "y_test.shape"
   ]
  },
  {
   "cell_type": "code",
   "execution_count": 15,
   "id": "8bfdd61f",
   "metadata": {},
   "outputs": [],
   "source": [
    "from sklearn.preprocessing import MinMaxScaler"
   ]
  },
  {
   "cell_type": "code",
   "execution_count": 16,
   "id": "23fc18bb",
   "metadata": {},
   "outputs": [],
   "source": [
    "scaler = MinMaxScaler()"
   ]
  },
  {
   "cell_type": "code",
   "execution_count": 17,
   "id": "eca8461f",
   "metadata": {},
   "outputs": [
    {
     "data": {
      "text/plain": [
       "MinMaxScaler()"
      ]
     },
     "execution_count": 17,
     "metadata": {},
     "output_type": "execute_result"
    }
   ],
   "source": [
    "scaler.fit(x_train)"
   ]
  },
  {
   "cell_type": "code",
   "execution_count": 18,
   "id": "806729da",
   "metadata": {},
   "outputs": [],
   "source": [
    "x_train = scaler.transform(x_train)\n",
    "x_test = scaler.transform(x_test)"
   ]
  },
  {
   "cell_type": "code",
   "execution_count": 19,
   "id": "79c44982",
   "metadata": {},
   "outputs": [
    {
     "data": {
      "text/plain": [
       "array([[0.28426396, 0.        , 0.        , ..., 0.        , 1.        ,\n",
       "        0.        ],\n",
       "       [0.96954315, 0.        , 0.        , ..., 0.        , 0.        ,\n",
       "        0.        ],\n",
       "       [0.02030457, 0.        , 0.        , ..., 0.        , 0.        ,\n",
       "        0.        ],\n",
       "       ...,\n",
       "       [1.        , 0.        , 0.        , ..., 0.        , 0.        ,\n",
       "        0.        ],\n",
       "       [0.87563452, 0.        , 0.        , ..., 0.        , 1.        ,\n",
       "        0.        ],\n",
       "       [0.0177665 , 0.        , 0.        , ..., 0.        , 0.        ,\n",
       "        0.        ]])"
      ]
     },
     "execution_count": 19,
     "metadata": {},
     "output_type": "execute_result"
    }
   ],
   "source": [
    "x_train"
   ]
  },
  {
   "cell_type": "code",
   "execution_count": 20,
   "id": "50942628",
   "metadata": {},
   "outputs": [],
   "source": [
    "import tensorflow as tf"
   ]
  },
  {
   "cell_type": "code",
   "execution_count": 21,
   "id": "e8eef54c",
   "metadata": {},
   "outputs": [],
   "source": [
    "from tensorflow.keras.models import Sequential # model oluşturmak için\n",
    "from tensorflow.keras.layers import Dense  # katman oluşturmak için"
   ]
  },
  {
   "cell_type": "code",
   "execution_count": 22,
   "id": "85004c56",
   "metadata": {},
   "outputs": [],
   "source": [
    "# modeli oluşturma\n",
    "model = Sequential()\n",
    "\n",
    "model.add(Dense(50,activation=\"relu\")) # 4 nöronlu katman eklendi\n",
    "model.add(Dense(50,activation=\"relu\"))\n",
    "model.add(Dense(50,activation=\"relu\"))\n",
    "model.add(Dense(50,activation=\"relu\"))\n",
    "model.add(Dense(50,activation=\"relu\"))\n",
    "model.add(Dense(50,activation=\"relu\"))\n",
    "\n",
    "model.add(Dense(1)) # output katmanı \n",
    "\n",
    "model.compile(optimizer=\"adam\",loss=\"mse\")"
   ]
  },
  {
   "cell_type": "code",
   "execution_count": 23,
   "id": "2537efb7",
   "metadata": {},
   "outputs": [
    {
     "name": "stdout",
     "output_type": "stream",
     "text": [
      "Epoch 1/50\n",
      "1525/1525 [==============================] - 3s 2ms/step - loss: 84.8763 - val_loss: 67.1825\n",
      "Epoch 2/50\n",
      "1525/1525 [==============================] - 2s 2ms/step - loss: 65.5306 - val_loss: 61.3369\n",
      "Epoch 3/50\n",
      "1525/1525 [==============================] - 2s 2ms/step - loss: 56.0611 - val_loss: 51.3166\n",
      "Epoch 4/50\n",
      "1525/1525 [==============================] - 2s 2ms/step - loss: 48.2303 - val_loss: 44.2147\n",
      "Epoch 5/50\n",
      "1525/1525 [==============================] - 2s 2ms/step - loss: 42.1774 - val_loss: 41.3710\n",
      "Epoch 6/50\n",
      "1525/1525 [==============================] - 2s 2ms/step - loss: 42.1280 - val_loss: 40.4901\n",
      "Epoch 7/50\n",
      "1525/1525 [==============================] - 2s 2ms/step - loss: 39.1462 - val_loss: 40.0680\n",
      "Epoch 8/50\n",
      "1525/1525 [==============================] - 2s 2ms/step - loss: 38.5025 - val_loss: 38.0480\n",
      "Epoch 9/50\n",
      "1525/1525 [==============================] - 2s 2ms/step - loss: 37.3206 - val_loss: 36.2482\n",
      "Epoch 10/50\n",
      "1525/1525 [==============================] - 2s 2ms/step - loss: 37.4547 - val_loss: 36.5959\n",
      "Epoch 11/50\n",
      "1525/1525 [==============================] - 2s 2ms/step - loss: 35.5054 - val_loss: 35.2023\n",
      "Epoch 12/50\n",
      "1525/1525 [==============================] - 2s 2ms/step - loss: 33.9879 - val_loss: 36.2452\n",
      "Epoch 13/50\n",
      "1525/1525 [==============================] - 2s 2ms/step - loss: 32.3769 - val_loss: 31.6624\n",
      "Epoch 14/50\n",
      "1525/1525 [==============================] - 2s 2ms/step - loss: 31.9066 - val_loss: 31.4388\n",
      "Epoch 15/50\n",
      "1525/1525 [==============================] - 3s 2ms/step - loss: 30.8184 - val_loss: 30.1255\n",
      "Epoch 16/50\n",
      "1525/1525 [==============================] - 2s 2ms/step - loss: 28.6906 - val_loss: 27.0388\n",
      "Epoch 17/50\n",
      "1525/1525 [==============================] - 2s 2ms/step - loss: 25.7700 - val_loss: 27.0157\n",
      "Epoch 18/50\n",
      "1525/1525 [==============================] - 2s 2ms/step - loss: 23.1391 - val_loss: 20.0293\n",
      "Epoch 19/50\n",
      "1525/1525 [==============================] - 3s 2ms/step - loss: 22.6413 - val_loss: 26.9894\n",
      "Epoch 20/50\n",
      "1525/1525 [==============================] - 2s 2ms/step - loss: 20.7810 - val_loss: 19.3081\n",
      "Epoch 21/50\n",
      "1525/1525 [==============================] - 3s 2ms/step - loss: 20.2336 - val_loss: 21.2549\n",
      "Epoch 22/50\n",
      "1525/1525 [==============================] - 3s 2ms/step - loss: 19.8821 - val_loss: 22.0855\n",
      "Epoch 23/50\n",
      "1525/1525 [==============================] - 3s 2ms/step - loss: 20.0994 - val_loss: 18.1300\n",
      "Epoch 24/50\n",
      "1525/1525 [==============================] - 2s 2ms/step - loss: 19.6139 - val_loss: 28.2676\n",
      "Epoch 25/50\n",
      "1525/1525 [==============================] - 2s 2ms/step - loss: 19.6469 - val_loss: 18.5191\n",
      "Epoch 26/50\n",
      "1525/1525 [==============================] - 3s 2ms/step - loss: 18.9464 - val_loss: 23.7287\n",
      "Epoch 27/50\n",
      "1525/1525 [==============================] - 2s 2ms/step - loss: 18.9372 - val_loss: 17.3105\n",
      "Epoch 28/50\n",
      "1525/1525 [==============================] - 3s 2ms/step - loss: 18.6822 - val_loss: 20.3467\n",
      "Epoch 29/50\n",
      "1525/1525 [==============================] - 3s 2ms/step - loss: 18.0083 - val_loss: 17.9340\n",
      "Epoch 30/50\n",
      "1525/1525 [==============================] - 3s 2ms/step - loss: 18.0018 - val_loss: 18.7651\n",
      "Epoch 31/50\n",
      "1525/1525 [==============================] - 3s 2ms/step - loss: 19.9779 - val_loss: 18.9633\n",
      "Epoch 32/50\n",
      "1525/1525 [==============================] - 3s 2ms/step - loss: 18.6591 - val_loss: 34.3833\n",
      "Epoch 33/50\n",
      "1525/1525 [==============================] - 3s 2ms/step - loss: 17.9752 - val_loss: 20.0014\n",
      "Epoch 34/50\n",
      "1525/1525 [==============================] - 3s 2ms/step - loss: 17.4958 - val_loss: 16.6163\n",
      "Epoch 35/50\n",
      "1525/1525 [==============================] - 3s 2ms/step - loss: 20.0519 - val_loss: 18.4499\n",
      "Epoch 36/50\n",
      "1525/1525 [==============================] - 3s 2ms/step - loss: 19.2266 - val_loss: 18.6879\n",
      "Epoch 37/50\n",
      "1525/1525 [==============================] - 3s 2ms/step - loss: 18.4603 - val_loss: 17.5378\n",
      "Epoch 38/50\n",
      "1525/1525 [==============================] - 3s 2ms/step - loss: 18.9705 - val_loss: 17.9759\n",
      "Epoch 39/50\n",
      "1525/1525 [==============================] - 3s 2ms/step - loss: 18.7852 - val_loss: 18.1841\n",
      "Epoch 40/50\n",
      "1525/1525 [==============================] - 3s 2ms/step - loss: 18.8537 - val_loss: 17.1727\n",
      "Epoch 41/50\n",
      "1525/1525 [==============================] - 3s 2ms/step - loss: 17.8991 - val_loss: 17.2792\n",
      "Epoch 42/50\n",
      "1525/1525 [==============================] - 3s 2ms/step - loss: 18.1028 - val_loss: 16.7331\n",
      "Epoch 43/50\n",
      "1525/1525 [==============================] - 3s 2ms/step - loss: 17.3938 - val_loss: 16.6938\n",
      "Epoch 44/50\n",
      "1525/1525 [==============================] - 3s 2ms/step - loss: 17.5175 - val_loss: 19.2422\n",
      "Epoch 45/50\n",
      "1525/1525 [==============================] - 3s 2ms/step - loss: 21.0048 - val_loss: 23.0557\n",
      "Epoch 46/50\n",
      "1525/1525 [==============================] - 3s 2ms/step - loss: 18.4724 - val_loss: 19.4889\n",
      "Epoch 47/50\n",
      "1525/1525 [==============================] - 3s 2ms/step - loss: 17.4802 - val_loss: 16.7591\n",
      "Epoch 48/50\n",
      "1525/1525 [==============================] - 2s 2ms/step - loss: 17.0968 - val_loss: 17.2856\n",
      "Epoch 49/50\n",
      "1525/1525 [==============================] - 3s 2ms/step - loss: 17.5469 - val_loss: 16.5304\n",
      "Epoch 50/50\n",
      "1525/1525 [==============================] - 3s 2ms/step - loss: 17.1164 - val_loss: 18.0798\n"
     ]
    },
    {
     "data": {
      "text/plain": [
       "<keras.callbacks.History at 0x2bc653f85e0>"
      ]
     },
     "execution_count": 23,
     "metadata": {},
     "output_type": "execute_result"
    }
   ],
   "source": [
    "model.fit(x_train,y_train,epochs=50,batch_size=100,validation_data=(x_test,y_test))"
   ]
  },
  {
   "cell_type": "code",
   "execution_count": 24,
   "id": "81999e4e",
   "metadata": {},
   "outputs": [],
   "source": [
    "loss=model.history.history #dictionary sözlük döndürür."
   ]
  },
  {
   "cell_type": "code",
   "execution_count": 25,
   "id": "c094b864",
   "metadata": {},
   "outputs": [
    {
     "data": {
      "text/plain": [
       "<AxesSubplot:>"
      ]
     },
     "execution_count": 25,
     "metadata": {},
     "output_type": "execute_result"
    },
    {
     "data": {
      "image/png": "[encoded data removed]",
      "text/plain": [
       "<Figure size 432x288 with 1 Axes>"
      ]
     },
     "metadata": {
      "needs_background": "light"
     },
     "output_type": "display_data"
    }
   ],
   "source": [
    "sns.lineplot(x=range(len(loss[\"loss\"])),y=loss[\"loss\"]) # sözlüğe göre görselleştirme"
   ]
  },
  {
   "cell_type": "code",
   "execution_count": 26,
   "id": "305232f5",
   "metadata": {},
   "outputs": [],
   "source": [
    "train_loss=model.evaluate(x_train,y_train,verbose=0)"
   ]
  },
  {
   "cell_type": "code",
   "execution_count": 27,
   "id": "de5609c6",
   "metadata": {},
   "outputs": [],
   "source": [
    "test_loss = model.evaluate(x_test,y_test,verbose=0)"
   ]
  },
  {
   "cell_type": "code",
   "execution_count": 28,
   "id": "0fe5f818",
   "metadata": {},
   "outputs": [
    {
     "data": {
      "text/plain": [
       "17.55704116821289"
      ]
     },
     "execution_count": 28,
     "metadata": {},
     "output_type": "execute_result"
    }
   ],
   "source": [
    "train_loss"
   ]
  },
  {
   "cell_type": "code",
   "execution_count": 29,
   "id": "700548d8",
   "metadata": {},
   "outputs": [
    {
     "data": {
      "text/plain": [
       "18.07976722717285"
      ]
     },
     "execution_count": 29,
     "metadata": {},
     "output_type": "execute_result"
    }
   ],
   "source": [
    "test_loss"
   ]
  },
  {
   "cell_type": "code",
   "execution_count": 30,
   "id": "a647149d",
   "metadata": {},
   "outputs": [],
   "source": [
    "testTahminleri = model.predict(x_test)"
   ]
  },
  {
   "cell_type": "code",
   "execution_count": 31,
   "id": "efdd0b02",
   "metadata": {},
   "outputs": [
    {
     "data": {
      "text/plain": [
       "(75082, 1)"
      ]
     },
     "execution_count": 31,
     "metadata": {},
     "output_type": "execute_result"
    }
   ],
   "source": [
    "testTahminleri.shape"
   ]
  },
  {
   "cell_type": "code",
   "execution_count": 32,
   "id": "326ec442",
   "metadata": {},
   "outputs": [],
   "source": [
    "tahminDF = pd.DataFrame(y_test.values,columns=[\"Gerçek Y\"])"
   ]
  },
  {
   "cell_type": "code",
   "execution_count": 33,
   "id": "b243e988",
   "metadata": {},
   "outputs": [
    {
     "data": {
      "text/html": [
       "<div>\n",
       "<style scoped>\n",
       "    .dataframe tbody tr th:only-of-type {\n",
       "        vertical-align: middle;\n",
       "    }\n",
       "\n",
       "    .dataframe tbody tr th {\n",
       "        vertical-align: top;\n",
       "    }\n",
       "\n",
       "    .dataframe thead th {\n",
       "        text-align: right;\n",
       "    }\n",
       "</style>\n",
       "<table border=\"1\" class=\"dataframe\">\n",
       "  <thead>\n",
       "    <tr style=\"text-align: right;\">\n",
       "      <th></th>\n",
       "      <th>Gerçek Y</th>\n",
       "    </tr>\n",
       "  </thead>\n",
       "  <tbody>\n",
       "    <tr>\n",
       "      <th>0</th>\n",
       "      <td>14.76</td>\n",
       "    </tr>\n",
       "    <tr>\n",
       "      <th>1</th>\n",
       "      <td>6.19</td>\n",
       "    </tr>\n",
       "    <tr>\n",
       "      <th>2</th>\n",
       "      <td>38.22</td>\n",
       "    </tr>\n",
       "    <tr>\n",
       "      <th>3</th>\n",
       "      <td>9.84</td>\n",
       "    </tr>\n",
       "    <tr>\n",
       "      <th>4</th>\n",
       "      <td>7.64</td>\n",
       "    </tr>\n",
       "    <tr>\n",
       "      <th>...</th>\n",
       "      <td>...</td>\n",
       "    </tr>\n",
       "    <tr>\n",
       "      <th>75077</th>\n",
       "      <td>8.95</td>\n",
       "    </tr>\n",
       "    <tr>\n",
       "      <th>75078</th>\n",
       "      <td>8.86</td>\n",
       "    </tr>\n",
       "    <tr>\n",
       "      <th>75079</th>\n",
       "      <td>9.00</td>\n",
       "    </tr>\n",
       "    <tr>\n",
       "      <th>75080</th>\n",
       "      <td>8.00</td>\n",
       "    </tr>\n",
       "    <tr>\n",
       "      <th>75081</th>\n",
       "      <td>16.64</td>\n",
       "    </tr>\n",
       "  </tbody>\n",
       "</table>\n",
       "<p>75082 rows × 1 columns</p>\n",
       "</div>"
      ],
      "text/plain": [
       "       Gerçek Y\n",
       "0         14.76\n",
       "1          6.19\n",
       "2         38.22\n",
       "3          9.84\n",
       "4          7.64\n",
       "...         ...\n",
       "75077      8.95\n",
       "75078      8.86\n",
       "75079      9.00\n",
       "75080      8.00\n",
       "75081     16.64\n",
       "\n",
       "[75082 rows x 1 columns]"
      ]
     },
     "execution_count": 33,
     "metadata": {},
     "output_type": "execute_result"
    }
   ],
   "source": [
    "tahminDF"
   ]
  },
  {
   "cell_type": "code",
   "execution_count": 34,
   "id": "e762cf4e",
   "metadata": {},
   "outputs": [],
   "source": [
    "testTahminleri = pd.DataFrame(data=testTahminleri,columns=[\"Tahmin Y\"])"
   ]
  },
  {
   "cell_type": "code",
   "execution_count": 35,
   "id": "10572a6e",
   "metadata": {},
   "outputs": [],
   "source": [
    "tahminDF = pd.concat([tahminDF,testTahminleri],axis=1)"
   ]
  },
  {
   "cell_type": "code",
   "execution_count": 36,
   "id": "c19ceae1",
   "metadata": {},
   "outputs": [
    {
     "data": {
      "text/html": [
       "<div>\n",
       "<style scoped>\n",
       "    .dataframe tbody tr th:only-of-type {\n",
       "        vertical-align: middle;\n",
       "    }\n",
       "\n",
       "    .dataframe tbody tr th {\n",
       "        vertical-align: top;\n",
       "    }\n",
       "\n",
       "    .dataframe thead th {\n",
       "        text-align: right;\n",
       "    }\n",
       "</style>\n",
       "<table border=\"1\" class=\"dataframe\">\n",
       "  <thead>\n",
       "    <tr style=\"text-align: right;\">\n",
       "      <th></th>\n",
       "      <th>Gerçek Y</th>\n",
       "      <th>Tahmin Y</th>\n",
       "    </tr>\n",
       "  </thead>\n",
       "  <tbody>\n",
       "    <tr>\n",
       "      <th>0</th>\n",
       "      <td>14.76</td>\n",
       "      <td>14.490001</td>\n",
       "    </tr>\n",
       "    <tr>\n",
       "      <th>1</th>\n",
       "      <td>6.19</td>\n",
       "      <td>5.987638</td>\n",
       "    </tr>\n",
       "    <tr>\n",
       "      <th>2</th>\n",
       "      <td>38.22</td>\n",
       "      <td>35.906406</td>\n",
       "    </tr>\n",
       "    <tr>\n",
       "      <th>3</th>\n",
       "      <td>9.84</td>\n",
       "      <td>10.966827</td>\n",
       "    </tr>\n",
       "    <tr>\n",
       "      <th>4</th>\n",
       "      <td>7.64</td>\n",
       "      <td>15.111568</td>\n",
       "    </tr>\n",
       "    <tr>\n",
       "      <th>...</th>\n",
       "      <td>...</td>\n",
       "      <td>...</td>\n",
       "    </tr>\n",
       "    <tr>\n",
       "      <th>75077</th>\n",
       "      <td>8.95</td>\n",
       "      <td>9.944305</td>\n",
       "    </tr>\n",
       "    <tr>\n",
       "      <th>75078</th>\n",
       "      <td>8.86</td>\n",
       "      <td>11.238443</td>\n",
       "    </tr>\n",
       "    <tr>\n",
       "      <th>75079</th>\n",
       "      <td>9.00</td>\n",
       "      <td>9.934772</td>\n",
       "    </tr>\n",
       "    <tr>\n",
       "      <th>75080</th>\n",
       "      <td>8.00</td>\n",
       "      <td>8.730817</td>\n",
       "    </tr>\n",
       "    <tr>\n",
       "      <th>75081</th>\n",
       "      <td>16.64</td>\n",
       "      <td>16.948708</td>\n",
       "    </tr>\n",
       "  </tbody>\n",
       "</table>\n",
       "<p>75082 rows × 2 columns</p>\n",
       "</div>"
      ],
      "text/plain": [
       "       Gerçek Y   Tahmin Y\n",
       "0         14.76  14.490001\n",
       "1          6.19   5.987638\n",
       "2         38.22  35.906406\n",
       "3          9.84  10.966827\n",
       "4          7.64  15.111568\n",
       "...         ...        ...\n",
       "75077      8.95   9.944305\n",
       "75078      8.86  11.238443\n",
       "75079      9.00   9.934772\n",
       "75080      8.00   8.730817\n",
       "75081     16.64  16.948708\n",
       "\n",
       "[75082 rows x 2 columns]"
      ]
     },
     "execution_count": 36,
     "metadata": {},
     "output_type": "execute_result"
    }
   ],
   "source": [
    "tahminDF"
   ]
  },
  {
   "cell_type": "code",
   "execution_count": 37,
   "id": "61ff855b",
   "metadata": {},
   "outputs": [
    {
     "data": {
      "text/plain": [
       "<AxesSubplot:xlabel='Gerçek Y', ylabel='Tahmin Y'>"
      ]
     },
     "execution_count": 37,
     "metadata": {},
     "output_type": "execute_result"
    },
    {
     "data": {
      "image/png": "[encoded data removed]",
      "text/plain": [
       "<Figure size 432x288 with 1 Axes>"
      ]
     },
     "metadata": {
      "needs_background": "light"
     },
     "output_type": "display_data"
    }
   ],
   "source": [
    "sns.scatterplot(x=\"Gerçek Y\",y=\"Tahmin Y\",data=tahminDF)"
   ]
  },
  {
   "cell_type": "code",
   "execution_count": null,
   "id": "a2100197",
   "metadata": {},
   "outputs": [],
   "source": []
  }
 ],
 "metadata": {
  "kernelspec": {
   "display_name": "Python 3 (ipykernel)",
   "language": "python",
   "name": "python3"
  },
  "language_info": {
   "codemirror_mode": {
    "name": "ipython",
    "version": 3
   },
   "file_extension": ".py",
   "mimetype": "text/x-python",
   "name": "python",
   "nbconvert_exporter": "python",
   "pygments_lexer": "ipython3",
   "version": "3.9.7"
  }
 },
 "nbformat": 4,
 "nbformat_minor": 5
}
